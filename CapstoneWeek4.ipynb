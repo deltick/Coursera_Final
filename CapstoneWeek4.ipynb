{
 "cells": [
  {
   "cell_type": "markdown",
   "metadata": {},
   "source": [
    "## Applied Data Science Capstone Project (Part 1)\n",
    "### John Tamer"
   ]
  },
  {
   "cell_type": "markdown",
   "metadata": {},
   "source": [
    "## Introduction\n",
    "\n",
    "Howard County is frequently cited for its affluence, quality of life, and excellent schools. Its estimated 2016 median household income of $120,194 raised it to the second-highest median household income of any U.S. county. Many of the most affluent communities in the area, such as Clarksville, Dayton, Glenelg, Glenwood, and West Friendship, are located along the Route 32 corridor in Howard County. The main population center of Columbia/Ellicott City was named second among Money magazine's 2010 survey of \"America's Best Places to Live.\"  \n",
    "\n",
    "As the county continues to expand and the population continues to grow, there are certain, less-populated areas that are underserved by restaurants.   Since many people must travel to other locations to dine out and get take-out food, traffic in some areas has greatly increased and the wait times at many restaurants continue to grow.  \n",
    "\n",
    "These factors combine to suggest that certain areas of Howard County consistute prime locations in which to open a new restaurant.  However, that decision must factor in the competition as well as the number of potential customers for the new restaurant.  \n",
    "\n",
    "To that end, we propose an analytical approach that examines the main neighborhoods of the county, as designated by zip code, the numbers and types of venues in each, and the population.  Based on a clustering of these factors, we will identify the best choice or choices for a new restaurant.\n",
    "\n",
    "## Data Sources\n",
    "\n",
    "Howard County maintains an online repository of data about the county (https://data.howardcountymd.gov/).  That cite provides the primary information about the neighborhoods and corresponding population numbers.  In addition, Foursquare.com, an online service that provides location information, is used to identify the types and number of venues in each of the areas.  Finally, the Folium Python library will be used to display maps of the area and to identify the location of clusters.\n",
    "\n",
    "The data will be used to cluster neighborhoods according to the types of venues located in them as well as the popluation.  The goal will be to find the cluster with the fewest restaurants and the highest population."
   ]
  }
 ],
 "metadata": {
  "kernelspec": {
   "display_name": "Python 3",
   "language": "python",
   "name": "python3"
  },
  "language_info": {
   "codemirror_mode": {
    "name": "ipython",
    "version": 3
   },
   "file_extension": ".py",
   "mimetype": "text/x-python",
   "name": "python",
   "nbconvert_exporter": "python",
   "pygments_lexer": "ipython3",
   "version": "3.7.3"
  }
 },
 "nbformat": 4,
 "nbformat_minor": 2
}
